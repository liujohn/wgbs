{
 "cells": [
  {
   "cell_type": "code",
   "execution_count": 1,
   "id": "25954d30-bbbf-4e3c-a861-f189c7c611da",
   "metadata": {
    "tags": []
   },
   "outputs": [],
   "source": [
    "import os\n",
    "import subprocess"
   ]
  },
  {
   "cell_type": "markdown",
   "id": "1937c312-5650-4018-8a60-c67e02c2e812",
   "metadata": {
    "jp-MarkdownHeadingCollapsed": true,
    "tags": []
   },
   "source": [
    "## Merge FASTQ files"
   ]
  },
  {
   "cell_type": "code",
   "execution_count": 39,
   "id": "8249641b-cc64-4823-87f3-8c8daa70e43a",
   "metadata": {},
   "outputs": [
    {
     "name": "stdout",
     "output_type": "stream",
     "text": [
      "\u001b[0m\u001b[38;5;34m5b_S149_L005_R1_001.fastq.gz\u001b[0m*  \u001b[38;5;34m7a_S152_L006_R1_001.fastq.gz\u001b[0m*\n",
      "\u001b[38;5;34m5b_S149_L005_R2_001.fastq.gz\u001b[0m*  \u001b[38;5;34m7a_S152_L006_R2_001.fastq.gz\u001b[0m*\n",
      "\u001b[38;5;34m5b_S149_L006_R1_001.fastq.gz\u001b[0m*  \u001b[38;5;34m7b_S153_L005_R1_001.fastq.gz\u001b[0m*\n",
      "\u001b[38;5;34m5b_S149_L006_R2_001.fastq.gz\u001b[0m*  \u001b[38;5;34m7b_S153_L005_R2_001.fastq.gz\u001b[0m*\n",
      "\u001b[38;5;34m6a_S150_L005_R1_001.fastq.gz\u001b[0m*  \u001b[38;5;34m7b_S153_L006_R1_001.fastq.gz\u001b[0m*\n",
      "\u001b[38;5;34m6a_S150_L005_R2_001.fastq.gz\u001b[0m*  \u001b[38;5;34m7b_S153_L006_R2_001.fastq.gz\u001b[0m*\n",
      "\u001b[38;5;34m6a_S150_L006_R1_001.fastq.gz\u001b[0m*  \u001b[38;5;34m8a_S154_L005_R1_001.fastq.gz\u001b[0m*\n",
      "\u001b[38;5;34m6a_S150_L006_R2_001.fastq.gz\u001b[0m*  \u001b[38;5;34m8a_S154_L005_R2_001.fastq.gz\u001b[0m*\n",
      "\u001b[38;5;34m6b_S151_L005_R1_001.fastq.gz\u001b[0m*  \u001b[38;5;34m8a_S154_L006_R1_001.fastq.gz\u001b[0m*\n",
      "\u001b[38;5;34m6b_S151_L005_R2_001.fastq.gz\u001b[0m*  \u001b[38;5;34m8a_S154_L006_R2_001.fastq.gz\u001b[0m*\n",
      "\u001b[38;5;34m6b_S151_L006_R1_001.fastq.gz\u001b[0m*  \u001b[38;5;34m8b_S155_L005_R1_001.fastq.gz\u001b[0m*\n",
      "\u001b[38;5;34m6b_S151_L006_R2_001.fastq.gz\u001b[0m*  \u001b[38;5;34m8b_S155_L005_R2_001.fastq.gz\u001b[0m*\n",
      "\u001b[38;5;34m7a_S152_L005_R1_001.fastq.gz\u001b[0m*  \u001b[38;5;34m8b_S155_L006_R1_001.fastq.gz\u001b[0m*\n",
      "\u001b[38;5;34m7a_S152_L005_R2_001.fastq.gz\u001b[0m*  \u001b[38;5;34m8b_S155_L006_R2_001.fastq.gz\u001b[0m*\n"
     ]
    }
   ],
   "source": [
    "ls ../../../../lgoudy/WGBS_Co26/"
   ]
  },
  {
   "cell_type": "code",
   "execution_count": null,
   "id": "1dacfd33-1a0b-4e1f-b2f4-5b9256f43a2b",
   "metadata": {},
   "outputs": [],
   "source": [
    "ls -l fastq"
   ]
  },
  {
   "cell_type": "code",
   "execution_count": 11,
   "id": "32123c64-3df6-4cf8-994b-b3069c22750e",
   "metadata": {
    "tags": []
   },
   "outputs": [],
   "source": [
    "!mkdir -p fastq_merge"
   ]
  },
  {
   "cell_type": "code",
   "execution_count": 15,
   "id": "0bde1838-2711-4a27-9f1a-8c1aed5260ca",
   "metadata": {
    "tags": []
   },
   "outputs": [
    {
     "name": "stdout",
     "output_type": "stream",
     "text": [
      "fastq/5b_S149_L005_R1_001.fastq.gz fastq/5b_S149_L006_R1_001.fastq.gz fastq/5b_R1.fastq.gz\n",
      "fastq/5b_S149_L005_R2_001.fastq.gz fastq/5b_S149_L006_R2_001.fastq.gz fastq/5b_R2.fastq.gz\n",
      "fastq/6a_S150_L005_R1_001.fastq.gz fastq/6a_S150_L006_R1_001.fastq.gz fastq/6a_R1.fastq.gz\n",
      "fastq/6a_S150_L005_R2_001.fastq.gz fastq/6a_S150_L006_R2_001.fastq.gz fastq/6a_R2.fastq.gz\n",
      "fastq/6b_S151_L005_R1_001.fastq.gz fastq/6b_S151_L006_R1_001.fastq.gz fastq/6b_R1.fastq.gz\n",
      "fastq/6b_S151_L005_R2_001.fastq.gz fastq/6b_S151_L006_R2_001.fastq.gz fastq/6b_R2.fastq.gz\n",
      "fastq/7a_S152_L005_R1_001.fastq.gz fastq/7a_S152_L006_R1_001.fastq.gz fastq/7a_R1.fastq.gz\n",
      "fastq/7a_S152_L005_R2_001.fastq.gz fastq/7a_S152_L006_R2_001.fastq.gz fastq/7a_R2.fastq.gz\n",
      "fastq/7b_S153_L005_R1_001.fastq.gz fastq/7b_S153_L006_R1_001.fastq.gz fastq/7b_R1.fastq.gz\n",
      "fastq/7b_S153_L005_R2_001.fastq.gz fastq/7b_S153_L006_R2_001.fastq.gz fastq/7b_R2.fastq.gz\n",
      "fastq/8a_S154_L005_R1_001.fastq.gz fastq/8a_S154_L006_R1_001.fastq.gz fastq/8a_R1.fastq.gz\n",
      "fastq/8a_S154_L005_R2_001.fastq.gz fastq/8a_S154_L006_R2_001.fastq.gz fastq/8a_R2.fastq.gz\n",
      "fastq/8b_S155_L005_R1_001.fastq.gz fastq/8b_S155_L006_R1_001.fastq.gz fastq/8b_R1.fastq.gz\n",
      "fastq/8b_S155_L005_R2_001.fastq.gz fastq/8b_S155_L006_R2_001.fastq.gz fastq/8b_R2.fastq.gz\n"
     ]
    }
   ],
   "source": [
    "%%bash\n",
    "for fq_l5 in fastq/*L005_R[1,2]_001.fastq.gz; do \n",
    "    fq_l6=${fq_l5/L005/L006};\n",
    "    fq_merge=${fq_l5/_S*_L005/};fq_merge=${fq_merge/_001/};\n",
    "\n",
    "    echo $fq_l5 $fq_l6 $fq_merge\n",
    "    cat $fq_l5 $fq_l6 > $fq_merge\n",
    "\n",
    "done"
   ]
  },
  {
   "cell_type": "code",
   "execution_count": 18,
   "id": "5c5d2ab3-cd02-48bd-bb84-5dd7fce8d236",
   "metadata": {
    "tags": []
   },
   "outputs": [
    {
     "name": "stdout",
     "output_type": "stream",
     "text": [
      "‘fastq/5b_R1.fastq.gz’ -> ‘fastq_merge/5b_R1.fastq.gz’\n",
      "‘fastq/5b_R2.fastq.gz’ -> ‘fastq_merge/5b_R2.fastq.gz’\n",
      "‘fastq/6a_R1.fastq.gz’ -> ‘fastq_merge/6a_R1.fastq.gz’\n",
      "‘fastq/6a_R2.fastq.gz’ -> ‘fastq_merge/6a_R2.fastq.gz’\n",
      "‘fastq/6b_R1.fastq.gz’ -> ‘fastq_merge/6b_R1.fastq.gz’\n",
      "‘fastq/6b_R2.fastq.gz’ -> ‘fastq_merge/6b_R2.fastq.gz’\n",
      "‘fastq/7a_R1.fastq.gz’ -> ‘fastq_merge/7a_R1.fastq.gz’\n",
      "‘fastq/7a_R2.fastq.gz’ -> ‘fastq_merge/7a_R2.fastq.gz’\n",
      "‘fastq/7b_R1.fastq.gz’ -> ‘fastq_merge/7b_R1.fastq.gz’\n",
      "‘fastq/7b_R2.fastq.gz’ -> ‘fastq_merge/7b_R2.fastq.gz’\n",
      "‘fastq/8a_R1.fastq.gz’ -> ‘fastq_merge/8a_R1.fastq.gz’\n",
      "‘fastq/8a_R2.fastq.gz’ -> ‘fastq_merge/8a_R2.fastq.gz’\n",
      "‘fastq/8b_R1.fastq.gz’ -> ‘fastq_merge/8b_R1.fastq.gz’\n",
      "‘fastq/8b_R2.fastq.gz’ -> ‘fastq_merge/8b_R2.fastq.gz’\n"
     ]
    }
   ],
   "source": [
    "mv -v fastq/*R[1,2].fastq.gz fastq_merge/"
   ]
  },
  {
   "cell_type": "code",
   "execution_count": 21,
   "id": "a9c1a601-44d3-46d7-b6f3-c62bf76ef639",
   "metadata": {
    "tags": []
   },
   "outputs": [
    {
     "name": "stdout",
     "output_type": "stream",
     "text": [
      "total 278G\n",
      "-rw-rw-r--. 1 aarab aarab 20G Jun 23 17:41 5b_R1.fastq.gz\n",
      "-rw-rw-r--. 1 aarab aarab 21G Jun 23 17:42 5b_R2.fastq.gz\n",
      "-rw-rw-r--. 1 aarab aarab 19G Jun 23 17:43 6a_R1.fastq.gz\n",
      "-rw-rw-r--. 1 aarab aarab 20G Jun 23 17:44 6a_R2.fastq.gz\n",
      "-rw-rw-r--. 1 aarab aarab 21G Jun 23 17:45 6b_R1.fastq.gz\n",
      "-rw-rw-r--. 1 aarab aarab 22G Jun 23 17:46 6b_R2.fastq.gz\n",
      "-rw-rw-r--. 1 aarab aarab 23G Jun 23 17:48 7a_R1.fastq.gz\n",
      "-rw-rw-r--. 1 aarab aarab 25G Jun 23 17:49 7a_R2.fastq.gz\n",
      "-rw-rw-r--. 1 aarab aarab 21G Jun 23 17:50 7b_R1.fastq.gz\n",
      "-rw-rw-r--. 1 aarab aarab 22G Jun 23 17:52 7b_R2.fastq.gz\n",
      "-rw-rw-r--. 1 aarab aarab 14G Jun 23 17:52 8a_R1.fastq.gz\n",
      "-rw-rw-r--. 1 aarab aarab 15G Jun 23 17:53 8a_R2.fastq.gz\n",
      "-rw-rw-r--. 1 aarab aarab 19G Jun 23 17:54 8b_R1.fastq.gz\n",
      "-rw-rw-r--. 1 aarab aarab 20G Jun 23  2023 8b_R2.fastq.gz\n"
     ]
    }
   ],
   "source": [
    "!ls -lh fastq_merge/"
   ]
  },
  {
   "cell_type": "markdown",
   "id": "c0d500c8-e5ad-42d8-ad15-11aa162d45c6",
   "metadata": {},
   "source": [
    "<!-- https://f1000research.com/articles/6-2055/v2\n",
    "\n",
    "> #### Resolution of the DNA methylation state of single CpG dyads using in silico strand annealing and WGBS data\n",
    "Nature protocol | https://www.nature.com/articles/s41596-018-0090-x\n",
    "\n",
    "> - Whole-genome bisulfite sequencing (WGBS) has been widely used to quantify cytosine DNA methylation frequency in an expanding array of cell and tissue types. Because of the denaturing conditions used, this method ultimately leads to the measurement of methylation frequencies at single cytosines. \n",
    "> - Hence, the methylation frequency of CpG dyads (two complementary CG dinucleotides) can be only indirectly inferred by overlaying the methylation frequency of two cytosines measured independently. \n",
    "> - Furthermore, hemi-methylated CpGs (hemiCpGs) have not been previously analyzed in WGBS studies. We recently developed in silico strand annealing (iSA), a bioinformatics method applicable to WGBS data, to resolve the methylation status of CpG dyads into __unmethylated__, __hemi-methylated__, and __methylated__. \n",
    "> - HemiCpGs account for 4–20% of the DNA methylome in different cell types, and some can be inherited across cell divisions, suggesting a role as a stable epigenetic mark. Therefore, it is important to resolve hemiCpGs from fully methylated CpGs in WGBS studies. This protocol describes step-by-step commands to accomplish this task, including dividing alignments by strand, pairing alignments between strands, and extracting single-fragment methylation calls. \n",
    "> - The versatility of iSA enables its application downstream of other WGBS-related methods such as nasBS-seq (nascent DNA bisulfite sequencing), ChIP-BSseq (ChIP followed by bisulfite sequencing), TAB-seq, oxBS-seq, and fCAB-seq. iSA is also tunable for analyzing the methylation status of cytosines in any sequence context. \n",
    "> - We exemplify this flexibility by uncovering the single-fragment non-CpG methylome. \n",
    "> - This protocol provides enough details for users with little experience in bioinformatic analysis and takes 2–7 h.\n",
    "\n",
    "> #### Extended-representation bisulfite sequencing of gene regulatory elements in multiplexed samples and single cells\n",
    "https://www.nature.com/articles/s41587-021-00910-x\n",
    "\n",
    "<!-- > - Before alignment, primer dimers were filtered using Cutadapt version 2.7 and the following parameters: `--discard -a GCTCTTCCGATCT`. Short read pairs were trimmed using Trim Galore version 0.6.5 and the following parameters: `--paired --illumina --nextseq 20`. \n",
    "> - High-quality sequencing reads were then aligned to an in silico bisulfite-converted reference genome (hg38 and mm10) using methylCtools version 1.0.0 (https://github.com/hovestadt/methylCtools, ref. 49) and bwa mem version 0.7.17. \n",
    "> - Sorted alignments were further processed to only maintain uniquely mapped read pairs with a mapping score ≥1, that were mapping to an MspI cut site and that had an insert size between 20 bp and 600 bp. Putative PCR duplicates were removed by considering the outer mapping position of both paired-end reads (read 2 being located at the MspI cut site and read 1 being located at variable positions), as well as the random hexamer sequence that was trimmed before alignment and functions as a UMI. For library complexity analysis, alignments were downsampled before this step. \n",
    "> - We note that multiple random hexamer priming events during the second-strand synthesis step might lead to additional sequencing reads from the same original fragment that cannot be identified using this approach. DNA methylation calling was performed using methylCtools bcall and the --trimPE parameter. Detailed quality metrics for each library are provided in Supplementary Table 1. DNA methylation values were deposited in the GEO (GSE149954) for all samples reported in this study.\n",
    "\n",
    "\n",
    "This is simply called RRBS protocol :) -->\n",
    "\n",
    "# Reading and annotating the methylation counts"
   ]
  },
  {
   "cell_type": "markdown",
   "id": "b0ea6a90-4ab8-4083-8bce-e067df3c411a",
   "metadata": {
    "jp-MarkdownHeadingCollapsed": true,
    "tags": []
   },
   "source": [
    "## Test fastq"
   ]
  },
  {
   "cell_type": "code",
   "execution_count": 11,
   "id": "982e64dd-b252-4e5d-a33f-0cd166dd48f0",
   "metadata": {
    "tags": []
   },
   "outputs": [],
   "source": [
    "mkdir fastq_test"
   ]
  },
  {
   "cell_type": "code",
   "execution_count": 1,
   "id": "ac53c211-026c-4b5a-bd17-c4beadb90cfd",
   "metadata": {
    "tags": []
   },
   "outputs": [
    {
     "name": "stdout",
     "output_type": "stream",
     "text": [
      "1415263748\n"
     ]
    }
   ],
   "source": [
    "!zcat /data_gilbert2/backups/aarab/WGBSseq_LaineGoudy/5b_R1.fastq.gz | wc -l"
   ]
  },
  {
   "cell_type": "code",
   "execution_count": 2,
   "id": "8de7d4ee-37ff-4ca3-9376-06c1186e18c3",
   "metadata": {
    "tags": []
   },
   "outputs": [
    {
     "data": {
      "text/plain": [
       "353815937.0"
      ]
     },
     "execution_count": 2,
     "metadata": {},
     "output_type": "execute_result"
    }
   ],
   "source": [
    "1415263748 / 4"
   ]
  },
  {
   "cell_type": "code",
   "execution_count": 4,
   "id": "8bc1d608-cb43-4bb2-97f9-c08a91f84a1a",
   "metadata": {},
   "outputs": [
    {
     "data": {
      "text/plain": [
       "800000"
      ]
     },
     "execution_count": 4,
     "metadata": {},
     "output_type": "execute_result"
    }
   ],
   "source": [
    "4 * 200 * 10**3"
   ]
  },
  {
   "cell_type": "code",
   "execution_count": 5,
   "id": "a886d3c7-04fb-4d3f-b922-d2815ef3182e",
   "metadata": {
    "tags": []
   },
   "outputs": [
    {
     "name": "stdout",
     "output_type": "stream",
     "text": [
      "\n",
      "gzip: stdout: Broken pipe\n",
      "\n",
      "gzip: stdout: Broken pipe\n"
     ]
    }
   ],
   "source": [
    "!zcat /data_gilbert2/backups/aarab/WGBSseq_LaineGoudy/5b_R1.fastq.gz | head -n 800000 | gzip > \\\n",
    "fastq_test/5b_R1.fastq.gz\n",
    "\n",
    "!zcat /data_gilbert2/backups/aarab/WGBSseq_LaineGoudy/5b_R2.fastq.gz | head -n 800000 | gzip > \\\n",
    "fastq_test/5b_R2.fastq.gz"
   ]
  },
  {
   "cell_type": "code",
   "execution_count": null,
   "id": "b55b4cfa-0df1-4f3e-90d4-760b9c641341",
   "metadata": {},
   "outputs": [],
   "source": []
  },
  {
   "cell_type": "code",
   "execution_count": null,
   "id": "c6d7afcb-6253-40c6-a3bc-7d2682e671f6",
   "metadata": {},
   "outputs": [],
   "source": []
  },
  {
   "cell_type": "code",
   "execution_count": 7,
   "id": "1a75fb70-f1f8-44c0-9f69-e11d6948be51",
   "metadata": {
    "tags": []
   },
   "outputs": [
    {
     "name": "stdout",
     "output_type": "stream",
     "text": [
      "total 1.1G\n",
      "-rw-rw-r-- 1 aarab aarab 542M Sep 12 10:09 \u001b[0m\u001b[38;5;9m5b_R1.fastq.gz\u001b[0m\n",
      "-rw-rw-r-- 1 aarab aarab 6.5M Sep 12 09:52 \u001b[38;5;9m5b_R1.trim.fastq.gz\u001b[0m\n",
      "-rw-rw-r-- 1 aarab aarab 562M Sep 12 10:17 \u001b[38;5;9m5b_R2.fastq.gz\u001b[0m\n",
      "-rw-rw-r-- 1 aarab aarab 6.4M Sep 12 09:52 \u001b[38;5;9m5b_R2.trim.fastq.gz\u001b[0m\n",
      "-rw-rw-r-- 1 aarab aarab 466K Sep 12 09:52 5b.trim.html\n",
      "-rw-rw-r-- 1 aarab aarab 118K Sep 12 09:52 5b.trim.json\n",
      "-rw-rw-r-- 1 aarab aarab 1.2K Sep 12 09:52 5b.trim.log\n"
     ]
    }
   ],
   "source": [
    "ls -lh fastq_test"
   ]
  },
  {
   "cell_type": "markdown",
   "id": "57d6422c-3e13-4bbc-b43f-418b119875de",
   "metadata": {
    "tags": []
   },
   "source": [
    "## A WGBS pipeline"
   ]
  },
  {
   "cell_type": "markdown",
   "id": "0e1d75ed-2fae-4d57-bc12-cdd6dc6b57f6",
   "metadata": {
    "jp-MarkdownHeadingCollapsed": true,
    "tags": []
   },
   "source": [
    "#### Trimming"
   ]
  },
  {
   "cell_type": "markdown",
   "id": "a004c5ac-ad92-4b59-89da-ea6a43fdb050",
   "metadata": {},
   "source": [
    "<!-- > #### [Adapter auto-detection](https://github.com/FelixKrueger/TrimGalore/blob/master/Docs/Trim_Galore_User_Guide.md#adapter-auto-detection)\n",
    "If no sequence was supplied, Trim Galore will attempt to auto-detect the adapter which has been used. For this it will analyse the first 1 million sequences of the first specified file and attempt to find the first 12 or 13bp of the following standard adapters:\n",
    "\n",
    " -->\n",
    " \n",
    "<!-- > #### Appendix C: Indexed adapter sequences\n",
    "The full-length adapter sequences are below. The underlined text indicates the location of the index sequences, which are 8 bp for CDI and 8 or 10 bp for UDI. These sequences represent the adapter sequences following completion of the Indexing PCR step.\n",
    "> - Index 1 (i7) Adapters:\n",
    "        5´ – GATCGGAAGAGCACACGTCTGAACTCCAGTCACXXXXXXXX(XX)ATCTCGTATGCCGTCTTCTGCTTG – 3´\n",
    "> - Index 2 (i5) Adapters:\n",
    "        5´ – AATGATACGGCGACCACCGAGATCTACACYYYYYYYY(YY)ACACTCTTTCCCTACACGACGCTCTTCCGATCT – 3´\n",
    "\n",
    "> https://sfvideo.blob.core.windows.net/sitefinity/docs/default-source/protocol/xgen-methyl-seq-dna-library-prep-kit-protocol.pdf?sfvrsn=9fa7e007_11 -->\n",
    "\n",
    "\n",
    "\n",
    "\n",
    "<!-- > - The synthetic tail sequence added to 3’ termini during the Adaptase reaction includes unmethylated \n",
    "cytosines. Therefore, the tail adds both synthetic sequence and methylation information to the beginning of R2. \n",
    "> - The Adaptase tails can be seen as a G-rich spike at the start of R2, with a median length of 8 bases (Figure 2). \n",
    "Trimming  of these tails is required for libraries created with the xGen Methyl-Seq DNA Library Prep Kit to obtain improved \n",
    "mapping efficiency (with tools like BSMAP [2]) because some aligners cannot soft clip synthetic sequence content \n",
    "which then can interfere with mapping. \n",
    "> - Tail trimming also removes synthetic unmethylated cytosines and helps with accurate methylation and bisulfite conversion information.\n",
    "Common analysis workflows for methyl-seq include trimming of bases from the beginning of both R1 and R2 to \n",
    "eliminate any synthetic cytosine methylation introduced as a result of filling in overhangs during end repair/polishing \n",
    "steps of conventional dsDNA library preparation. Adaptase tails can also be removed by an adjustment during this \n",
    "trimming step.\n",
    "> - Following standard adapter trimming, trim the recommended number of bases (Table 1) from the 5’ start of R2 and \n",
    "the 3’ end of R1 to eliminate the majority of Adaptase tail sequence. Publicly available tools such as Trimmomatic [3], \n",
    "fastx_trimmer [4], or Trim Galore [5] may be used as part of the sequence data processing pipeline. -->\n",
    "<!-- > > - Important: Some downstream differential methylation analysis software packages require that both paired  \n",
    "end (PE) reads are the same length, therefore the same number of base pairs (bp) will need to be trimmed from \n",
    "the start of R2, as well as the end of R1.  -->\n",
    "> - For paired-end (PE) reads, trim 10 bases from the end of R1 (3’ end) and 10 bases from the beginning of R2  \n",
    "(5’ end) to remove tail sequences that may be encountered at these sites (Table 1). \n",
    "> - If symmetric read lengths are not required, and the R1 length does not approach the library insert size, trimming of Adaptase tails from the end of R1 \n",
    "(3’ end) may not be necessary. For example, tails are unlikely to be encountered at the end of R1 with PE75 or PE100 \n",
    "on a 170 bp insert library but are likely to be encountered if performing PE150. These recommendations will help \n",
    "achieve >70% aligned bisulfite reads using BSMAP [2]. "
   ]
  },
  {
   "cell_type": "code",
   "execution_count": 2,
   "id": "f2d43daa-2e74-40ec-b9d7-6a0532d295b7",
   "metadata": {
    "tags": []
   },
   "outputs": [],
   "source": [
    "def run_trimming(sample_id,study_dir,tool,n_cores=10):\n",
    "    # trim 10 bases from the end of R1 (3’ end) and 10 bases from the beginning of R2  \n",
    "    # (5’ end) to remove tail sequences\n",
    "\n",
    "    fq1=f\"{study_dir}/{sample_id}_R1.fastq.gz\"\n",
    "    fq2=f\"{study_dir}/{sample_id}_R2.fastq.gz\"\n",
    "    \n",
    "    if tool == 'fastp':\n",
    "        fq1_trim=f\"{study_dir}/{sample_id}_R1.trim.fastq.gz\"\n",
    "        fq2_trim=f\"{study_dir}/{sample_id}_R2.trim.fastq.gz\"\n",
    "        html=f\"{study_dir}/{sample_id}.{tool}.html\"\n",
    "        json=f\"{study_dir}/{sample_id}.{tool}.json\"\n",
    "        log=f\"{study_dir}/{sample_id}.{tool}.log\"\n",
    "        \n",
    "        opt=f\"--trim_tail1=10 --trim_front2=10 --thread {n_cores} -R {sample_id} -h {html} -j {json}\"\n",
    "        cm=f\"fastp {opt} -i {fq1} -I {fq2} -o {fq1_trim} -O {fq2_trim} &> {log}\"\n",
    "    \n",
    "    elif tool == 'trim_galore':\n",
    "        log=f\"{study_dir}/{sample_id}.{tool}.log\"\n",
    "        \n",
    "        opt=\"--three_prime_clip_R1 10 --clip_R2 20 --clip_r1 10 --three_prime_clip_r2 10 --paired\"\n",
    "        cm=f\"trim_galore {opt} --core {n_cores} -o {study_dir} {fq1} {fq2} &> {log}\"\n",
    "    \n",
    "    print(cm)\n",
    "    subprocess.run(cm,shell=True)"
   ]
  },
  {
   "cell_type": "markdown",
   "id": "0c200c96-4780-437f-9394-ce7d041bef31",
   "metadata": {
    "jp-MarkdownHeadingCollapsed": true,
    "tags": []
   },
   "source": [
    "#### Alignment"
   ]
  },
  {
   "cell_type": "markdown",
   "id": "68c2cdf2-9877-4a65-af5b-98056a3ea119",
   "metadata": {},
   "source": [
    "<!-- > - Processed reads were aligned to the hg38 reference genome using methylCtools (version 1.0.0, https://github.com/hovestadt/methylCtools) (Hovestadt et al., 2014) and bwa mem (version 0.7.17, arXiv: 1303.3997v1) using default parameters. \n",
    "> - Over 98% of reads were aligned as proper pairs across samples. \n",
    "> - After marking of PCR duplicates using sambamba (version 0.8.0) (Tarasov et al., 2015), genome-wide CpG methylation values were called using methylCtools using the–trimPE parameter. Average CpG coverage was ∼25-fold across samples. Bisulfite conversion efficiency was estimated to be greater than 99.5% based on non-CpG methylation.\n",
    " -->\n",
    " \n",
    " ___\n",
    "> - To achieve similarly high mapping rates with Bismark [6] we recommend following parameters bowtie2 L,--0.6,--0.6, --directional."
   ]
  },
  {
   "cell_type": "code",
   "execution_count": 3,
   "id": "ef7faf32-1a72-41d9-bf6a-9b5cc00f6973",
   "metadata": {},
   "outputs": [],
   "source": [
    "genDIR=\"/data_gilbert/home/aarab/genomes/hg38/chromosomes/\""
   ]
  },
  {
   "cell_type": "code",
   "execution_count": 4,
   "id": "ea77350c-c0c8-4366-a03e-0ef07d865c44",
   "metadata": {},
   "outputs": [],
   "source": [
    "def run_bismark(sample_id, study_dir, genDIR, trim_tool, n_cores=10):\n",
    "    cwd = os.getcwd()\n",
    "    os.chdir(study_dir)\n",
    "    \n",
    "    if trim_tool=='fastp':\n",
    "        fq1_trim=f\"{sample_id}_R1.trim.fastq.gz\"\n",
    "        fq2_trim=f\"{sample_id}_R2.trim.fastq.gz\"\n",
    "    elif trim_tool=='trim_galore':\n",
    "        fq1_trim=f\"{sample_id}_R1_val_1.fq.gz\"\n",
    "        fq2_trim=f\"{sample_id}_R2_val_2.fq.gz\"\n",
    "    \n",
    "    log=f\"{sample_id}.bismark.log\"\n",
    "     # --score_min L,0.6,0.6 \n",
    "    cm=f\"bismark --gzip --parallel {n_cores} --genome {genDIR} -1 {fq1_trim} -2 {fq2_trim} &> {log}\"\n",
    "    print(cm)\n",
    "    subprocess.run(cm,shell=True)\n",
    "    os.chdir(cwd)"
   ]
  },
  {
   "cell_type": "markdown",
   "id": "18f37427-d4e2-4fb7-a0db-3b64e5313a36",
   "metadata": {},
   "source": [
    "### Run pipeline"
   ]
  },
  {
   "cell_type": "markdown",
   "id": "e790bd30-08d1-4248-8d96-3dec602df90b",
   "metadata": {
    "jp-MarkdownHeadingCollapsed": true,
    "tags": []
   },
   "source": [
    "#### sample `5b`"
   ]
  },
  {
   "cell_type": "code",
   "execution_count": null,
   "id": "7cee1885-3207-4cae-86e6-2a0c44214a0d",
   "metadata": {},
   "outputs": [
    {
     "name": "stdout",
     "output_type": "stream",
     "text": [
      "trim_galore --three_prime_clip_R1 10 --clip_R2 20 --clip_r1 10 --three_prime_clip_r2 10 --paired --core 20 -o /data_gilbert2/backups/aarab/WGBSseq_LaineGoudy/ /data_gilbert2/backups/aarab/WGBSseq_LaineGoudy//5b_R1.fastq.gz /data_gilbert2/backups/aarab/WGBSseq_LaineGoudy//5b_R2.fastq.gz &> /data_gilbert2/backups/aarab/WGBSseq_LaineGoudy//5b.trim_galore.log\n"
     ]
    }
   ],
   "source": [
    "run_trimming(\n",
    "    sample_id='5b',\n",
    "    # study_dir='fastq_test/',\n",
    "    study_dir='/data_gilbert2/backups/aarab/WGBSseq_LaineGoudy/',\n",
    "    tool='trim_galore',\n",
    "    n_cores=20\n",
    ")"
   ]
  },
  {
   "cell_type": "code",
   "execution_count": null,
   "id": "3347e4cf-2cf7-43e2-ad0c-6a84c340b3b4",
   "metadata": {
    "tags": []
   },
   "outputs": [],
   "source": [
    "run_bismark(\n",
    "    sample_id='5b',\n",
    "    # study_dir='fastq_test',\n",
    "    study_dir='/data_gilbert2/backups/aarab/WGBSseq_LaineGoudy/',\n",
    "    genDIR='/data_gilbert/home/aarab/genomes/hg38/chromosomes/',\n",
    "    trim_tool = 'trim_galore'\n",
    ")"
   ]
  },
  {
   "cell_type": "code",
   "execution_count": null,
   "id": "1322cdfe-45fd-4d22-bb9a-68e1a31c804f",
   "metadata": {},
   "outputs": [],
   "source": [
    "cat '/data_gilbert2/backups/aarab/WGBSseq_LaineGoudy/5b_R1_val_1_bismark_bt2_PE_report.txt' | grep \"Mapping efficiency\""
   ]
  },
  {
   "cell_type": "code",
   "execution_count": 7,
   "id": "bc24df7d-53c2-444d-b214-ff9374eb0dca",
   "metadata": {},
   "outputs": [
    {
     "name": "stdout",
     "output_type": "stream",
     "text": [
      "Mapping efficiency:\t44.2% \n"
     ]
    }
   ],
   "source": [
    "cat '/data_gilbert2/backups/aarab/WGBSseq_LaineGoudy/5b_R1_val_1_bismark_bt2_PE_report.txt' | grep \"Mapping efficiency\""
   ]
  },
  {
   "cell_type": "markdown",
   "id": "edc2eb2b-4dc3-42e8-a641-3d50290346a8",
   "metadata": {
    "jp-MarkdownHeadingCollapsed": true,
    "tags": []
   },
   "source": [
    "#### sample `6a`"
   ]
  },
  {
   "cell_type": "code",
   "execution_count": null,
   "id": "44bdba8b-ff91-471f-94de-9ccbfd37aab2",
   "metadata": {
    "tags": []
   },
   "outputs": [],
   "source": [
    "run_trimming(\n",
    "    sample_id='6a',\n",
    "    # study_dir='fastq_test/',\n",
    "    study_dir='/data_gilbert2/backups/aarab/WGBSseq_LaineGoudy/',\n",
    "    tool='trim_galore',\n",
    "    n_cores=20\n",
    ")"
   ]
  },
  {
   "cell_type": "code",
   "execution_count": null,
   "id": "025e2b9a-cbfa-47fd-8453-12a03cabac5b",
   "metadata": {
    "tags": []
   },
   "outputs": [],
   "source": [
    "run_bismark(\n",
    "    sample_id='6a',\n",
    "    # study_dir='fastq_test',\n",
    "    study_dir='/data_gilbert2/backups/aarab/WGBSseq_LaineGoudy/',\n",
    "    genDIR='/data_gilbert/home/aarab/genomes/hg38/chromosomes/',\n",
    "    trim_tool = 'trim_galore'\n",
    ")"
   ]
  },
  {
   "cell_type": "markdown",
   "id": "37e02719-50ae-4417-9646-ba7498a48dd2",
   "metadata": {
    "jp-MarkdownHeadingCollapsed": true,
    "tags": []
   },
   "source": [
    "#### sample `6b`"
   ]
  },
  {
   "cell_type": "code",
   "execution_count": null,
   "id": "d21bb896-3ec2-47c6-bbc6-6ba56ce28c72",
   "metadata": {
    "tags": []
   },
   "outputs": [
    {
     "name": "stdout",
     "output_type": "stream",
     "text": [
      "trim_galore --three_prime_clip_R1 10 --clip_R2 20 --clip_r1 10 --three_prime_clip_r2 10 --paired --core 10 -o /data_gilbert2/backups/aarab/WGBSseq_LaineGoudy/ /data_gilbert2/backups/aarab/WGBSseq_LaineGoudy//6b_R1.fastq.gz /data_gilbert2/backups/aarab/WGBSseq_LaineGoudy//6b_R2.fastq.gz &> /data_gilbert2/backups/aarab/WGBSseq_LaineGoudy//6b.trim_galore.log\n"
     ]
    }
   ],
   "source": [
    "run_trimming(\n",
    "    sample_id='6b',\n",
    "    study_dir='/data_gilbert2/backups/aarab/WGBSseq_LaineGoudy/',\n",
    "    tool='trim_galore'\n",
    ")"
   ]
  },
  {
   "cell_type": "code",
   "execution_count": null,
   "id": "8e67a34f-2dc2-4ccd-93e3-d0934fc87b0d",
   "metadata": {
    "tags": []
   },
   "outputs": [],
   "source": [
    "run_bismark(\n",
    "    sample_id='6b',\n",
    "    study_dir='/data_gilbert2/backups/aarab/WGBSseq_LaineGoudy/',\n",
    "    genDIR='/data_gilbert/home/aarab/genomes/hg38/chromosomes/',\n",
    "    trim_tool = 'trim_galore'\n",
    ")"
   ]
  },
  {
   "cell_type": "markdown",
   "id": "690d8e71-079b-48ab-9bb7-d773d69d03d1",
   "metadata": {
    "jp-MarkdownHeadingCollapsed": true,
    "tags": []
   },
   "source": [
    "#### sample `7a`"
   ]
  },
  {
   "cell_type": "code",
   "execution_count": null,
   "id": "d91a6a62-cf52-4464-8647-914287e062fb",
   "metadata": {
    "tags": []
   },
   "outputs": [],
   "source": [
    "run_trimming(\n",
    "    sample_id='7a',\n",
    "    study_dir='/data_gilbert2/backups/aarab/WGBSseq_LaineGoudy/',\n",
    "    tool='trim_galore'\n",
    ")"
   ]
  },
  {
   "cell_type": "code",
   "execution_count": null,
   "id": "d99149ef-22e0-4da7-b56a-5aeb9ec0fdac",
   "metadata": {
    "tags": []
   },
   "outputs": [],
   "source": [
    "run_bismark(\n",
    "    sample_id='7a',\n",
    "    study_dir='/data_gilbert2/backups/aarab/WGBSseq_LaineGoudy/',\n",
    "    genDIR='/data_gilbert/home/aarab/genomes/hg38/chromosomes/',\n",
    "    trim_tool = 'trim_galore'\n",
    ")"
   ]
  },
  {
   "cell_type": "markdown",
   "id": "c3558001-5175-482e-8ea3-fb16e083158e",
   "metadata": {
    "jp-MarkdownHeadingCollapsed": true,
    "tags": []
   },
   "source": [
    "#### sample `7b`"
   ]
  },
  {
   "cell_type": "code",
   "execution_count": null,
   "id": "af4c40a7-72ee-4e59-8f8e-5e76adf22396",
   "metadata": {
    "tags": []
   },
   "outputs": [],
   "source": [
    "run_trimming(\n",
    "    sample_id='7b',\n",
    "    study_dir='/data_gilbert2/backups/aarab/WGBSseq_LaineGoudy/',\n",
    "    tool='trim_galore'\n",
    ")"
   ]
  },
  {
   "cell_type": "code",
   "execution_count": null,
   "id": "21605eab-0edf-44a9-9a2d-87e11ba4f489",
   "metadata": {
    "tags": []
   },
   "outputs": [],
   "source": [
    "run_bismark(\n",
    "    sample_id='7b',\n",
    "    study_dir='/data_gilbert2/backups/aarab/WGBSseq_LaineGoudy/',\n",
    "    genDIR='/data_gilbert/home/aarab/genomes/hg38/chromosomes/',\n",
    "    trim_tool = 'trim_galore'\n",
    ")"
   ]
  },
  {
   "cell_type": "markdown",
   "id": "a1f0058b-316a-4124-8e44-253c78b6698b",
   "metadata": {
    "jp-MarkdownHeadingCollapsed": true,
    "tags": []
   },
   "source": [
    "#### sample `8a`"
   ]
  },
  {
   "cell_type": "code",
   "execution_count": null,
   "id": "94278d3a-6776-4399-9812-cd591ed3a5dc",
   "metadata": {
    "tags": []
   },
   "outputs": [
    {
     "name": "stdout",
     "output_type": "stream",
     "text": [
      "trim_galore --three_prime_clip_R1 10 --clip_R2 20 --clip_r1 10 --three_prime_clip_r2 10 --paired --core 10 -o /data_gilbert2/backups/aarab/WGBSseq_LaineGoudy/ /data_gilbert2/backups/aarab/WGBSseq_LaineGoudy//8a_R1.fastq.gz /data_gilbert2/backups/aarab/WGBSseq_LaineGoudy//8a_R2.fastq.gz &> /data_gilbert2/backups/aarab/WGBSseq_LaineGoudy//8a.trim_galore.log\n"
     ]
    }
   ],
   "source": [
    "run_trimming(\n",
    "    sample_id='8a',\n",
    "    study_dir='/data_gilbert2/backups/aarab/WGBSseq_LaineGoudy/',\n",
    "    tool='trim_galore'\n",
    ")"
   ]
  },
  {
   "cell_type": "code",
   "execution_count": null,
   "id": "7c6be374-df2f-4387-9c6c-0400bab9c34c",
   "metadata": {
    "tags": []
   },
   "outputs": [],
   "source": [
    "run_bismark(\n",
    "    sample_id='8a',\n",
    "    study_dir='/data_gilbert2/backups/aarab/WGBSseq_LaineGoudy/',\n",
    "    genDIR='/data_gilbert/home/aarab/genomes/hg38/chromosomes/',\n",
    "    trim_tool = 'trim_galore'\n",
    ")"
   ]
  },
  {
   "cell_type": "markdown",
   "id": "bd8c86f7-4d81-46f4-93c3-13326834b5c8",
   "metadata": {
    "tags": []
   },
   "source": [
    "#### sample `8b`"
   ]
  },
  {
   "cell_type": "code",
   "execution_count": 5,
   "id": "957f1082-fee1-4647-9482-8a26e2275e59",
   "metadata": {
    "tags": []
   },
   "outputs": [
    {
     "name": "stdout",
     "output_type": "stream",
     "text": [
      "trim_galore --three_prime_clip_R1 10 --clip_R2 20 --clip_r1 10 --three_prime_clip_r2 10 --paired --core 10 -o /data_gilbert2/backups/aarab/WGBSseq_LaineGoudy/ /data_gilbert2/backups/aarab/WGBSseq_LaineGoudy//8b_R1.fastq.gz /data_gilbert2/backups/aarab/WGBSseq_LaineGoudy//8b_R2.fastq.gz &> /data_gilbert2/backups/aarab/WGBSseq_LaineGoudy//8b.trim_galore.log\n"
     ]
    }
   ],
   "source": [
    "run_trimming(\n",
    "    sample_id='8b',\n",
    "    study_dir='/data_gilbert2/backups/aarab/WGBSseq_LaineGoudy/',\n",
    "    tool='trim_galore'\n",
    ")"
   ]
  },
  {
   "cell_type": "code",
   "execution_count": null,
   "id": "41863e95-aab6-48b2-b6c2-5279085984c7",
   "metadata": {
    "tags": []
   },
   "outputs": [
    {
     "name": "stdout",
     "output_type": "stream",
     "text": [
      "bismark --gzip --parallel 10 --genome /data_gilbert/home/aarab/genomes/hg38/chromosomes/ -1 8b_R1_val_1.fq.gz -2 8b_R2_val_2.fq.gz &> 8b.bismark.log\n"
     ]
    }
   ],
   "source": [
    "run_bismark(\n",
    "    sample_id='8b',\n",
    "    study_dir='/data_gilbert2/backups/aarab/WGBSseq_LaineGoudy/',\n",
    "    genDIR='/data_gilbert/home/aarab/genomes/hg38/chromosomes/',\n",
    "    trim_tool = 'trim_galore'\n",
    ")"
   ]
  },
  {
   "cell_type": "code",
   "execution_count": null,
   "id": "bcedce97-a3bc-4de0-a339-301d8671854d",
   "metadata": {
    "tags": []
   },
   "outputs": [],
   "source": [
    "ls"
   ]
  },
  {
   "cell_type": "markdown",
   "id": "a398c3c2-f60f-4b00-b7f4-a4e5c9031876",
   "metadata": {},
   "source": [
    "#### "
   ]
  },
  {
   "cell_type": "code",
   "execution_count": 45,
   "id": "dbf0d434-ee17-49f1-8cb9-37f20ee710c0",
   "metadata": {
    "tags": []
   },
   "outputs": [
    {
     "name": "stdout",
     "output_type": "stream",
     "text": [
      "Mapping efficiency:\t86.4% \n",
      "Mapping efficiency:\t85.5% \n",
      "Mapping efficiency:\t85.2% \n",
      "Mapping efficiency:\t86.1% \n",
      "Mapping efficiency:\t87.1% \n"
     ]
    }
   ],
   "source": [
    "cat /data_gilbert2/backups/aarab/WGBSseq_LaineGoudy/*_bismark_bt2_PE_report.txt | grep \"Mapping\""
   ]
  },
  {
   "cell_type": "markdown",
   "id": "0a35f3de-10b1-46c8-b032-12b1352d4f70",
   "metadata": {},
   "source": [
    "### BAM coverage  \n",
    "David's suggestion ..."
   ]
  },
  {
   "cell_type": "markdown",
   "id": "05eae19b-776d-4e2e-9cb9-73c5cd70502f",
   "metadata": {},
   "source": [
    "https://learn.gencore.bio.nyu.edu/chipseq-analysis/exercise-part1-deeptools2-bamcoverage/"
   ]
  },
  {
   "cell_type": "code",
   "execution_count": null,
   "id": "790e7f6d-d94d-48ee-be96-d005fd6886d3",
   "metadata": {},
   "outputs": [],
   "source": []
  },
  {
   "cell_type": "code",
   "execution_count": null,
   "id": "0baf8fdb-1556-4105-8ede-f9e2109d5d6d",
   "metadata": {},
   "outputs": [],
   "source": []
  },
  {
   "cell_type": "code",
   "execution_count": null,
   "id": "5904d53b-6f76-4af2-bf29-f0ac654aedb7",
   "metadata": {},
   "outputs": [],
   "source": []
  },
  {
   "cell_type": "code",
   "execution_count": null,
   "id": "07f54999-e3dd-4b69-8c31-f07bc56f9c0e",
   "metadata": {},
   "outputs": [],
   "source": []
  },
  {
   "cell_type": "code",
   "execution_count": null,
   "id": "7851d20f-4c64-43df-8271-4bdf37556813",
   "metadata": {},
   "outputs": [],
   "source": []
  },
  {
   "cell_type": "code",
   "execution_count": null,
   "id": "b3343cb2-9977-4291-b3dd-61790874c354",
   "metadata": {},
   "outputs": [],
   "source": []
  },
  {
   "cell_type": "markdown",
   "id": "e0046750-3c1e-4b96-a747-04ddb14be980",
   "metadata": {},
   "source": [
    "# "
   ]
  },
  {
   "cell_type": "code",
   "execution_count": null,
   "id": "892bfc75-bb29-4b63-9656-b92c310c99cb",
   "metadata": {},
   "outputs": [],
   "source": [
    "!date"
   ]
  }
 ],
 "metadata": {
  "kernelspec": {
   "display_name": "Python [conda env:CRISPR_off]",
   "language": "python",
   "name": "conda-env-CRISPR_off-py"
  },
  "language_info": {
   "codemirror_mode": {
    "name": "ipython",
    "version": 3
   },
   "file_extension": ".py",
   "mimetype": "text/x-python",
   "name": "python",
   "nbconvert_exporter": "python",
   "pygments_lexer": "ipython3",
   "version": "3.10.12"
  }
 },
 "nbformat": 4,
 "nbformat_minor": 5
}
